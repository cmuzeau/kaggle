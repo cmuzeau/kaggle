{
 "cells": [
  {
   "cell_type": "markdown",
   "metadata": {},
   "source": [
    "# Brain MRI segmentation\n",
    "---"
   ]
  },
  {
   "cell_type": "code",
   "execution_count": null,
   "metadata": {},
   "outputs": [],
   "source": [
    "cat ../input/lgg-mri-segmentation/kaggle_3m/README.md"
   ]
  },
  {
   "cell_type": "markdown",
   "metadata": {},
   "source": [
    "### Imports"
   ]
  },
  {
   "cell_type": "code",
   "execution_count": 6,
   "metadata": {
    "_cell_guid": "b1076dfc-b9ad-4769-8c92-a6c4dae69d19",
    "_uuid": "8f2839f25d086af736a60e9eeb907d3b93b6e0e5",
    "execution": {
     "iopub.execute_input": "2022-12-13T14:35:01.979918Z",
     "iopub.status.busy": "2022-12-13T14:35:01.978858Z",
     "iopub.status.idle": "2022-12-13T14:35:07.007617Z",
     "shell.execute_reply": "2022-12-13T14:35:07.006643Z",
     "shell.execute_reply.started": "2022-12-13T14:35:01.979882Z"
    }
   },
   "outputs": [],
   "source": [
    "from   datetime import datetime\n",
    "from   functools import reduce\n",
    "import os\n",
    "from   pathlib import Path\n",
    "import re\n",
    "\n",
    "import cv2 as cv\n",
    "import torch\n",
    "import torch.nn as nn\n",
    "import torch.optim as optim\n",
    "from   torch.utils.data import Dataset, DataLoader, random_split\n",
    "import torchvision.transforms as T\n",
    "import torchvision.transforms.functional as F\n",
    "from   torchvision.utils import make_grid, draw_segmentation_masks\n",
    "from   matplotlib import colors\n",
    "import matplotlib.pyplot as plt\n",
    "import numpy as np\n",
    "import pandas as pd\n",
    "from   PIL import Image\n",
    "import plotly.express as px\n",
    "from   scipy.ndimage.morphology import binary_dilation\n",
    "from   skimage import io\n",
    "from   sklearn.model_selection import train_test_split\n",
    "\n",
    "from   torchmetrics import JaccardIndex, Dice\n",
    "from   sklearn.metrics import jaccard_score\n",
    "\n",
    "# bon exemple : TCGA_DU_7306\n",
    "# bon aussi car moins dexemple : TCGA_CS_5393\n",
    "\n",
    "pd.set_option('max_colwidth', 400)\n",
    "pd.set_option('display.max_rows', 50)"
   ]
  },
  {
   "cell_type": "markdown",
   "metadata": {},
   "source": [
    "### Helpers"
   ]
  },
  {
   "cell_type": "code",
   "execution_count": 7,
   "metadata": {
    "execution": {
     "iopub.execute_input": "2022-12-13T14:35:07.010924Z",
     "iopub.status.busy": "2022-12-13T14:35:07.009931Z",
     "iopub.status.idle": "2022-12-13T14:35:07.028674Z",
     "shell.execute_reply": "2022-12-13T14:35:07.027497Z",
     "shell.execute_reply.started": "2022-12-13T14:35:07.010880Z"
    }
   },
   "outputs": [],
   "source": [
    "def imread(path, mode=cv.IMREAD_UNCHANGED):\n",
    "    return cv.imread(str(path), mode) / 255\n",
    "\n",
    "def mask_to_contour(mask, thickness=1, color=\"red\"):\n",
    "    \"\"\"Returns contour of binary black and white mask.\"\"\"\n",
    "    assert mask.ndim == 3, \"Mask is not RGB.\"\n",
    "    assert mask.dtype == np.float64, \"Make sure mask is in the range [0-1].\"\n",
    "    contour = reduce(lambda x, _: binary_dilation(x), [mask]*(thickness+1)) - mask\n",
    "    return contour * colors.to_rgb(color)\n",
    "\n",
    "def colored_mask(mask, color=\"red\"):\n",
    "    \"\"\"Converts a black and white mask to a colored one.\"\"\"\n",
    "    assert mask.ndim == 3, \"Mask is not RGB.\"\n",
    "    assert mask.dtype == np.float64, \"Make sure mask is in the range [0-1].\"\n",
    "    return mask * colors.to_rgb(color)\n",
    "\n",
    "# def apply_mask(img, mask, alpha=.6):\n",
    "#     \"\"\"Apply a mask to an image.\"\"\"\n",
    "#     assert img.ndim == mask.ndim == 3, \"Make sur img and mask are RGB.\"\n",
    "#     assert img.dtype == mask.dtype == np.float64, \"Make sure img and mask are in the range [0-1].\"\n",
    "#     f = np.any(mask, axis=2)\n",
    "#     t = np.stack((f,)*3, axis=-1)\n",
    "#     u = np.copy(img)\n",
    "#     temp = u + alpha * (mask - u)\n",
    "#     u[t] = temp[t]\n",
    "#     return u\n",
    "\n",
    "def apply_mask(img, mask, thickness=None, alpha=None , color=\"red\"):\n",
    "    \"\"\"mode = contour or patch\"\"\"\n",
    "    assert img.ndim == mask.ndim == 3, \"Make sur img and mask are RGB.\"\n",
    "    assert img.dtype == mask.dtype == np.float64, \"Make sure img and mask are in the range [0-1].\"\n",
    "    new_mask = np.copy(mask)\n",
    "    if thickness:\n",
    "        new_mask = reduce(lambda x, _: binary_dilation(x), [mask]*(thickness+1)) - mask\n",
    "    new_mask *= colors.to_rgb(color)\n",
    "    f = np.any(mask, axis=2)\n",
    "    t = np.stack((f,)*3, axis=-1)\n",
    "    u = np.copy(img)\n",
    "    if alpha:\n",
    "        new_mask = u + alpha * (new_mask - u)\n",
    "    u[t] = new_mask[t]\n",
    "    return u"
   ]
  },
  {
   "cell_type": "markdown",
   "metadata": {},
   "source": [
    "### Dataset analysis"
   ]
  },
  {
   "cell_type": "code",
   "execution_count": 8,
   "metadata": {
    "execution": {
     "iopub.execute_input": "2022-12-13T14:35:07.031403Z",
     "iopub.status.busy": "2022-12-13T14:35:07.030568Z",
     "iopub.status.idle": "2022-12-13T14:35:08.611901Z",
     "shell.execute_reply": "2022-12-13T14:35:08.610837Z",
     "shell.execute_reply.started": "2022-12-13T14:35:07.031370Z"
    }
   },
   "outputs": [],
   "source": [
    "data_path = Path('../input/lgg-mri-segmentation/kaggle_3m/')\n",
    "\n",
    "# patients info\n",
    "data_csv = pd.read_csv(data_path/\"data.csv\")\n",
    "\n",
    "# dataset as pandas dataframe\n",
    "data_pd = pd.DataFrame([\n",
    "    (path.parts[-2], Path(str(path).replace(\"_mask\", '')), path)\n",
    "    for path in sorted(data_path.rglob(\"*_mask.tif\"),\n",
    "                       key=lambda a: ''.join(map(lambda x: f\"{x:0>2}\", re.split(r'_', a.stem))))\n",
    "], columns=[\"patient\", \"image\", \"mask\"])"
   ]
  },
  {
   "cell_type": "markdown",
   "metadata": {},
   "source": [
    "### Visualization"
   ]
  },
  {
   "cell_type": "code",
   "execution_count": null,
   "metadata": {},
   "outputs": [],
   "source": [
    "def imread2(path):\n",
    "    return cv.imread(str(path)) / 255\n",
    "\n",
    "# select random patient\n",
    "patient = np.random.choice(data_pd[\"patient\"].unique())\n",
    "\n",
    "# retrieve paths for the scans and masks of the patient\n",
    "_, imgs_path, masks_path = data_pd[data_pd[\"patient\"] == patient].T.to_numpy()\n",
    "\n",
    "# read images and masks into a list of tuples\n",
    "samples = [(imread2(img), imread2(mask)) for img,mask in zip(imgs_path, masks_path)]\n",
    "\n",
    "# list of merged image and mask next to mask\n",
    "segs = np.array([np.hstack((apply_mask(img, mask, alpha=.4), mask)) for img,mask in samples])\n",
    "\n",
    "# create slideshow\n",
    "fig = px.imshow(segs, animation_frame=0, binary_string=True, labels=dict(animation_frame=\"slice\"))\n",
    "fig.update_layout(xaxis_showticklabels=False, yaxis_showticklabels=False)\n",
    "\n",
    "# display patient info and mri\n",
    "display(data_csv.loc[data_csv['Patient'] == patient[:12]])\n",
    "fig.show()"
   ]
  },
  {
   "cell_type": "markdown",
   "metadata": {},
   "source": [
    "### Dataset"
   ]
  },
  {
   "cell_type": "code",
   "execution_count": 9,
   "metadata": {
    "execution": {
     "iopub.execute_input": "2022-12-13T14:35:10.125402Z",
     "iopub.status.busy": "2022-12-13T14:35:10.125026Z",
     "iopub.status.idle": "2022-12-13T14:35:10.134094Z",
     "shell.execute_reply": "2022-12-13T14:35:10.133014Z",
     "shell.execute_reply.started": "2022-12-13T14:35:10.125373Z"
    }
   },
   "outputs": [],
   "source": [
    "class BrainDataset(Dataset):\n",
    "    def __init__(self, df, transform=None):\n",
    "        super(BrainDataset, self).__init__()\n",
    "        self.df = df\n",
    "        self.transform = transform\n",
    "        \n",
    "    def __len__(self):\n",
    "        return len(self.df)\n",
    "    \n",
    "    def __getitem__(self, idx):\n",
    "        _, image_path, mask_path = self.df.iloc[idx]\n",
    "#         image = imread(image_path)\n",
    "#         mask = imread(mask_path, mode=cv.IMREAD_GRAYSCALE)\n",
    "        image = io.imread(image_path)\n",
    "        mask = io.imread(mask_path)\n",
    "        if self.transform:\n",
    "            image, mask = self.transform(image), self.transform(mask)\n",
    "        return image, mask"
   ]
  },
  {
   "cell_type": "code",
   "execution_count": 61,
   "metadata": {
    "execution": {
     "iopub.execute_input": "2022-12-13T15:27:57.042124Z",
     "iopub.status.busy": "2022-12-13T15:27:57.041621Z",
     "iopub.status.idle": "2022-12-13T15:27:57.058260Z",
     "shell.execute_reply": "2022-12-13T15:27:57.057274Z",
     "shell.execute_reply.started": "2022-12-13T15:27:57.042082Z"
    }
   },
   "outputs": [],
   "source": [
    "# train_data, val_data, test_data = random_split(data, [.75, .15, .10], generator=torch.Generator().manual_seed(0))\n",
    "\n",
    "train_df, temp_df = train_test_split(data_pd, test_size=.25)\n",
    "val_df, test_df = train_test_split(temp_df, test_size=.4)\n",
    "\n",
    "train_transform = T.Compose([T.ToTensor(),])\n",
    "eval_transform = T.ToTensor()\n",
    "\n",
    "train_data = BrainDataset(train_df, transform=train_transform)\n",
    "val_data = BrainDataset(val_df, transform=eval_transform)\n",
    "test_data = BrainDataset(test_df, transform=eval_transform)\n",
    "\n",
    "train_loader = DataLoader(\n",
    "    train_data,\n",
    "    batch_size=32,\n",
    "    shuffle=True,\n",
    "    num_workers=2,\n",
    ")\n",
    "\n",
    "val_loader = DataLoader(\n",
    "    val_data,\n",
    "    batch_size=32,\n",
    "    shuffle=False,\n",
    "    num_workers=2,\n",
    ")\n",
    "\n",
    "test_loader = DataLoader(\n",
    "    test_data,\n",
    "    batch_size=32,\n",
    "    shuffle=False,\n",
    "    num_workers=2,\n",
    ")"
   ]
  },
  {
   "cell_type": "code",
   "execution_count": 22,
   "metadata": {
    "execution": {
     "iopub.execute_input": "2022-12-13T14:48:02.167593Z",
     "iopub.status.busy": "2022-12-13T14:48:02.166031Z",
     "iopub.status.idle": "2022-12-13T14:48:02.674575Z",
     "shell.execute_reply": "2022-12-13T14:48:02.673564Z",
     "shell.execute_reply.started": "2022-12-13T14:48:02.167548Z"
    }
   },
   "outputs": [
    {
     "name": "stderr",
     "output_type": "stream",
     "text": [
      "Using cache found in /root/.cache/torch/hub/mateuszbuda_brain-segmentation-pytorch_master\n"
     ]
    }
   ],
   "source": [
    "epochs = 20\n",
    "model_name = \"unet\"\n",
    "device = torch.device(\"cuda\")\n",
    "model = torch.hub.load('mateuszbuda/brain-segmentation-pytorch', 'unet',\n",
    "    in_channels=3, out_channels=1, init_features=32, pretrained=True)\n",
    "model.to(device)\n",
    "\n",
    "optimizer = optim.Adam(model.parameters(), lr=0.01)\n",
    "loss_fn = nn.BCELoss()"
   ]
  },
  {
   "cell_type": "code",
   "execution_count": 23,
   "metadata": {
    "execution": {
     "iopub.execute_input": "2022-12-13T14:48:03.578099Z",
     "iopub.status.busy": "2022-12-13T14:48:03.577324Z",
     "iopub.status.idle": "2022-12-13T14:48:03.589652Z",
     "shell.execute_reply": "2022-12-13T14:48:03.588691Z",
     "shell.execute_reply.started": "2022-12-13T14:48:03.578059Z"
    }
   },
   "outputs": [],
   "source": [
    "def train_loop(dataloader, optimizer, loss_fn, epoch):\n",
    "    train_loss = 0\n",
    "    model.train()\n",
    "    for batch, (image, mask) in enumerate(dataloader):\n",
    "        print(f\"[Epoch {epoch:>2}] Train batch progress: {batch+1:>3}/{len(dataloader)}\", end='\\r')\n",
    "        image = image.to(device)\n",
    "        mask = mask.to(device)\n",
    "        output = model(image)\n",
    "        loss = loss_fn(output, mask)\n",
    "        optimizer.zero_grad()\n",
    "        loss.backward()\n",
    "        optimizer.step()\n",
    "        train_loss += loss.item() * image.size(0)\n",
    "#         break\n",
    "    return train_loss / len(dataloader.dataset)\n",
    "\n",
    "def eval_loop(dataloader, optimizer, loss_fn, epoch):\n",
    "    val_loss = 0\n",
    "    iou = 0\n",
    "#     jaccard = JaccardIndex(task=\"binary\", num_classes=2).to(device)\n",
    "    dice = 0\n",
    "#     dice = Dice(average='micro').to(device)\n",
    "    len_loader = len(dataloader.dataset)\n",
    "    model.eval()\n",
    "    with torch.no_grad():\n",
    "        for batch, (image, mask) in enumerate(dataloader):\n",
    "            print(f\"[Epoch {epoch:>2}] Val batch progress: {batch+1:>3}/{len(dataloader)}  \", end='\\r')\n",
    "            image = image.to(device)\n",
    "            mask = mask.to(device)\n",
    "            output = model(image)\n",
    "            \n",
    "            val_loss += loss_fn(output, mask).item() * image.size(0)\n",
    "            output = (output > .5).float()\n",
    "            iou += jaccard_score(mask.cpu().flatten(), output.cpu().flatten(), zero_division=1.0) * image.size(0)\n",
    "#             break\n",
    "    return (val_loss/len_loader, iou/len_loader, dice/len_loader)"
   ]
  },
  {
   "cell_type": "markdown",
   "metadata": {},
   "source": [
    "### Training"
   ]
  },
  {
   "cell_type": "code",
   "execution_count": 24,
   "metadata": {
    "execution": {
     "iopub.execute_input": "2022-12-13T14:48:10.646632Z",
     "iopub.status.busy": "2022-12-13T14:48:10.645899Z",
     "iopub.status.idle": "2022-12-13T15:10:28.173303Z",
     "shell.execute_reply": "2022-12-13T15:10:28.171903Z",
     "shell.execute_reply.started": "2022-12-13T14:48:10.646596Z"
    }
   },
   "outputs": [
    {
     "name": "stdout",
     "output_type": "stream",
     "text": [
      "[Epoch  1] Train loss: 0.03410 | Val loss: 0.03591 | Val IoU: 33.46% | Val Dice:\n",
      "[Epoch  2] Train loss: 0.02081 | Val loss: 0.01996 | Val IoU: 41.94% | Val Dice:\n",
      "[Epoch  3] Train loss: 0.01876 | Val loss: 0.02686 | Val IoU: 40.64% | Val Dice:\n",
      "[Epoch  4] Train loss: 0.01738 | Val loss: 0.02866 | Val IoU: 37.11% | Val Dice:\n",
      "[Epoch  5] Train loss: 0.01709 | Val loss: 0.01967 | Val IoU: 48.12% | Val Dice:\n",
      "[Epoch  6] Train loss: 0.01640 | Val loss: 0.01782 | Val IoU: 49.51% | Val Dice:\n",
      "[Epoch  7] Train loss: 0.01511 | Val loss: 0.01774 | Val IoU: 46.86% | Val Dice:\n",
      "[Epoch  8] Train loss: 0.01399 | Val loss: 0.01365 | Val IoU: 57.50% | Val Dice:\n",
      "[Epoch  9] Train loss: 0.01281 | Val loss: 0.02087 | Val IoU: 39.21% | Val Dice:\n",
      "[Epoch 10] Train loss: 0.01247 | Val loss: 0.01773 | Val IoU: 56.95% | Val Dice:\n",
      "[Epoch 11] Train loss: 0.01139 | Val loss: 0.01072 | Val IoU: 64.52% | Val Dice:\n",
      "[Epoch 12] Train loss: 0.01130 | Val loss: 0.01088 | Val IoU: 61.08% | Val Dice:\n",
      "[Epoch 13] Train loss: 0.01082 | Val loss: 0.01071 | Val IoU: 64.50% | Val Dice:\n",
      "[Epoch 14] Train loss: 0.01025 | Val loss: 0.01371 | Val IoU: 61.17% | Val Dice:\n",
      "[Epoch 15] Train loss: 0.01018 | Val loss: 0.01233 | Val IoU: 54.20% | Val Dice:\n",
      "[Epoch 16] Train loss: 0.00936 | Val loss: 0.01162 | Val IoU: 59.29% | Val Dice:\n",
      "[Epoch 17] Train loss: 0.00960 | Val loss: 0.01789 | Val IoU: 51.66% | Val Dice:\n",
      "[Epoch 18] Train loss: 0.00919 | Val loss: 0.01336 | Val IoU: 53.06% | Val Dice:\n",
      "[Epoch 19] Train loss: 0.00943 | Val loss: 0.00895 | Val IoU: 70.54% | Val Dice:\n",
      "[Epoch 20] Train loss: 0.00797 | Val loss: 0.00925 | Val IoU: 67.57% | Val Dice:\n"
     ]
    }
   ],
   "source": [
    "for epoch in range(1, epochs+1):\n",
    "    train_loss = train_loop(train_loader, optimizer, loss_fn, epoch)\n",
    "    val_loss, iou, dice = eval_loop(val_loader, optimizer, loss_fn, epoch)\n",
    "    print(f\"[Epoch {epoch:>2}] Train loss: {train_loss:.5f} | Val loss: {val_loss:.5f} | Val IoU: {iou:.2%} | Val Dice:\")\n",
    "torch.save(model.state_dict(), model_name+'_'+datetime.now().strftime(\"%Y%m%d-%H%M%S\")+'.pth')"
   ]
  },
  {
   "cell_type": "code",
   "execution_count": 56,
   "metadata": {
    "execution": {
     "iopub.execute_input": "2022-12-13T15:25:53.385055Z",
     "iopub.status.busy": "2022-12-13T15:25:53.384083Z",
     "iopub.status.idle": "2022-12-13T15:25:55.013100Z",
     "shell.execute_reply": "2022-12-13T15:25:55.011927Z",
     "shell.execute_reply.started": "2022-12-13T15:25:53.385002Z"
    }
   },
   "outputs": [
    {
     "name": "stdout",
     "output_type": "stream",
     "text": [
      "tensor(0.0157)\n"
     ]
    },
    {
     "data": {
      "image/png": "[encoded data removed]",
      "text/plain": [
       "<Figure size 432x288 with 1 Axes>"
      ]
     },
     "metadata": {
      "needs_background": "light"
     },
     "output_type": "display_data"
    },
    {
     "data": {
      "text/plain": [
       "<matplotlib.image.AxesImage at 0x7f5bbf34b9d0>"
      ]
     },
     "execution_count": 56,
     "metadata": {},
     "output_type": "execute_result"
    },
    {
     "data": {
      "image/png": "[encoded data removed]",
      "text/plain": [
       "<Figure size 432x288 with 1 Axes>"
      ]
     },
     "metadata": {
      "needs_background": "light"
     },
     "output_type": "display_data"
    }
   ],
   "source": [
    "img,mask = next(iter(test_loader))\n",
    "print(torch.max(img[0][0][0]))\n",
    "img = img[0].unsqueeze(0)\n",
    "model.to(\"cpu\")\n",
    "res = model(img)\n",
    "res = res[0].permute((1,2,0))\n",
    "res = res.detach().numpy()\n",
    "mask = mask[0].permute((1,2,0)).detach().numpy()\n",
    "plt.imshow(mask, cmap=\"gray\")\n",
    "plt.show()\n",
    "plt.imshow(res, cmap=\"gray\")"
   ]
  },
  {
   "cell_type": "code",
   "execution_count": null,
   "metadata": {},
   "outputs": [],
   "source": [
    "img = cv.imread('../input/lgg-mri-segmentation/kaggle_3m/TCGA_CS_4941_19960909/TCGA_CS_4941_19960909_14.tif')\n",
    "mask = cv.imread('../input/lgg-mri-segmentation/kaggle_3m/TCGA_CS_4941_19960909/TCGA_CS_4941_19960909_14_mask.tif')\n",
    "# mask2 = cv.imread('../input/lgg-mri-segmentation/kaggle_3m/TCGA_CS_4941_19960909/TCGA_CS_4941_19960909_16_mask.tif')\n",
    "print(\"cv\", mask.shape)\n",
    "print(\"io\", mask2.shape)\n",
    "\n",
    "# a = mask_to_contour(mask/255, thickness=1)\n",
    "# a = colored_mask(mask/255, color=\"red\")\n",
    "# a = apply_mask(mask/255, mask_to_contour(mask2/255, thickness=3), alpha=.6)\n",
    "# a = apply_mask(mask/255, colored_mask(mask2/255), alpha=.5)\n",
    "a = apply_mask(img/255, colored_mask(mask/255), alpha=.7)\n",
    "# plt.imshow(mask)\n",
    "# plt.show()\n",
    "plt.imshow(a)\n",
    "plt.show()\n",
    "# plt.imshow(mask)\n",
    "# plt.show()"
   ]
  }
 ],
 "metadata": {
  "kernelspec": {
   "display_name": "Python 3 (ipykernel)",
   "language": "python",
   "name": "python3"
  },
  "language_info": {
   "codemirror_mode": {
    "name": "ipython",
    "version": 3
   },
   "file_extension": ".py",
   "mimetype": "text/x-python",
   "name": "python",
   "nbconvert_exporter": "python",
   "pygments_lexer": "ipython3",
   "version": "3.10.8"
  }
 },
 "nbformat": 4,
 "nbformat_minor": 4
}
